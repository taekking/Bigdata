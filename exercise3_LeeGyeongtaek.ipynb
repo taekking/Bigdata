{
 "cells": [
  {
   "cell_type": "markdown",
   "metadata": {},
   "source": [
    "Exercise82:TaxiFare"
   ]
  },
  {
   "cell_type": "code",
   "execution_count": 9,
   "metadata": {},
   "outputs": [
    {
     "name": "stdout",
     "output_type": "stream",
     "text": [
      "This Program calculates the taxi fare\n",
      "with base fare of $4.00, plus $0.25 for every 140 meters traveled\n",
      "Enter the meter traveled: 285\n",
      "Taxi fare for 285 is $4.50\n"
     ]
    }
   ],
   "source": [
    "def taxi_fare(meter_traveled):\n",
    "    base_fare = 4\n",
    "    \n",
    "    num = meter_traveled // 140\n",
    "    add_fare = num * 0.25\n",
    "    total = base_fare + add_fare\n",
    "    print(\"Taxi fare for %d is $%.2f\" %(meter_traveled, total))\n",
    "    \n",
    "    return total\n",
    "    \n",
    "def main():\n",
    "    print(\"This Program calculates the taxi fare\")\n",
    "    print(\"with base fare of $4.00, plus $0.25 for every 140 meters traveled\")\n",
    "    \n",
    "    meter_traveled = float(input(\"Enter the meter traveled: \"))\n",
    "    taxi_fare(meter_traveled)\n",
    "    \n",
    "main()"
   ]
  },
  {
   "cell_type": "markdown",
   "metadata": {},
   "source": [
    "Exercise84:MedianofThreeValues"
   ]
  },
  {
   "cell_type": "code",
   "execution_count": 10,
   "metadata": {},
   "outputs": [
    {
     "name": "stdout",
     "output_type": "stream",
     "text": [
      "Enter the first number: 19\n",
      "Enter the second number: 3.1\n",
      "Enter the third number: 6.4\n",
      "6.4\n"
     ]
    }
   ],
   "source": [
    "def median_of_three(frst, scnd, thrd):\n",
    "    alist = []\n",
    "    alist.append(frst)\n",
    "    alist.append(scnd)\n",
    "    alist.append(thrd)\n",
    "    \n",
    "    alist.sort()\n",
    "    \n",
    "    print(alist[1])\n",
    "    return alist[1]\n",
    "\n",
    "def main():\n",
    "    \n",
    "    frst = float(input(\"Enter the first number: \"))\n",
    "    scnd = float(input(\"Enter the second number: \"))\n",
    "    thrd = float(input(\"Enter the third number: \"))\n",
    "    \n",
    "    median_of_three(frst, scnd, thrd)\n",
    "    \n",
    "main()"
   ]
  },
  {
   "cell_type": "markdown",
   "metadata": {},
   "source": [
    "Exercise85:ConvertanIntegertoitsOrdinalNumber"
   ]
  },
  {
   "cell_type": "code",
   "execution_count": 12,
   "metadata": {},
   "outputs": [
    {
     "name": "stdout",
     "output_type": "stream",
     "text": [
      "Enter the integer (1~12): 12\n",
      "twelfth\n"
     ]
    },
    {
     "data": {
      "text/plain": [
       "'twelfth'"
      ]
     },
     "execution_count": 12,
     "metadata": {},
     "output_type": "execute_result"
    }
   ],
   "source": [
    "def int_to_ordin():\n",
    "    adict = {'1': \"first\", '2':\"second\", '3':\"third\", '4':\"forth\", '5':\"fifth\", '6':\"sixth\" ,'7':\"seventh\" ,'8':\"eighth\" ,'9':\"ninth\" ,'10':\"tenth\" ,'11':\"eleventh\" ,'12':\"twelfth\"}\n",
    "    \n",
    "    intnum = str(input(\"Enter the integer (1~12): \"))\n",
    "    if intnum in adict:\n",
    "        print(adict[intnum])\n",
    "        return adict[intnum]\n",
    "    else:\n",
    "        print(\"\")\n",
    "        return 0\n",
    "\n",
    "int_to_ordin()"
   ]
  },
  {
   "cell_type": "markdown",
   "metadata": {},
   "source": [
    "Exercise88:IsitaValidTriangle?"
   ]
  },
  {
   "cell_type": "code",
   "execution_count": 13,
   "metadata": {},
   "outputs": [
    {
     "name": "stdout",
     "output_type": "stream",
     "text": [
      "This Program verify if the three straws with each length can make the triangle or not.\n",
      "If the longest straw is shorter than the summation of the lengthes of the others,\n",
      "then the triangle is valid.\n",
      "Enter the first number: 6.6\n",
      "Enter the second number: 2.2\n",
      "Enter the third number: 4.5\n",
      "Valid Triangle!\n",
      "Valid?= True\n"
     ]
    }
   ],
   "source": [
    "def valid_tri(frst, scnd, thrd):\n",
    "    alist = []\n",
    "    \n",
    "    alist.append(frst)\n",
    "    alist.append(scnd)\n",
    "    alist.append(thrd)\n",
    "    alist.sort()\n",
    "    \n",
    "    if thrd >= frst + scnd:\n",
    "        print(\"Not valid...\")\n",
    "        return False\n",
    "    else:\n",
    "        print(\"Valid Triangle!\")\n",
    "        return True\n",
    "    \n",
    "def main():\n",
    "    print(\"This Program verify if the three straws with each length can make the triangle or not.\")\n",
    "    print(\"If the longest straw is shorter than the summation of the lengthes of the others,\")\n",
    "    print(\"then the triangle is valid.\")\n",
    "    \n",
    "    frst = float(input(\"Enter the first number: \"))\n",
    "    scnd = float(input(\"Enter the second number: \"))\n",
    "    thrd = float(input(\"Enter the third number: \"))\n",
    "    \n",
    "    print(\"Valid?= %s\" %(valid_tri(frst, scnd, thrd)))\n",
    "    \n",
    "\n",
    "main()"
   ]
  },
  {
   "cell_type": "markdown",
   "metadata": {},
   "source": [
    "Exercise92:IsaNumberPrime?"
   ]
  },
  {
   "cell_type": "code",
   "execution_count": 8,
   "metadata": {},
   "outputs": [
    {
     "name": "stdout",
     "output_type": "stream",
     "text": [
      "Enter the number: 19\n",
      "is Prime!\n"
     ]
    }
   ],
   "source": [
    "def isPrime(num):\n",
    "    divisors = []\n",
    "    sum = 0\n",
    "\n",
    "    for k in range(1, num): \n",
    "        if num % k == 0: #get proper divisors\n",
    "            divisors.append(k) \n",
    "\n",
    "    for j in divisors:\n",
    "        sum += j #sumation of divisors\n",
    "\n",
    "    if sum == 1: #if prime number\n",
    "        return True\n",
    "    return False\n",
    "    \n",
    "def main():\n",
    "    num = int(input(\"Enter the number: \"))\n",
    "    if isPrime(num):\n",
    "        print(\"is Prime!\")\n",
    "    else:\n",
    "        print(\"is Not prime..\")\n",
    "        \n",
    "main()"
   ]
  },
  {
   "cell_type": "markdown",
   "metadata": {},
   "source": [
    "Exercise93: Next Prime"
   ]
  },
  {
   "cell_type": "code",
   "execution_count": 37,
   "metadata": {
    "scrolled": false
   },
   "outputs": [
    {
     "name": "stdout",
     "output_type": "stream",
     "text": [
      "Enter the number: 20\n",
      "Next prime number after 20 is 23\n"
     ]
    }
   ],
   "source": [
    "def nextPrime(num):\n",
    "    \n",
    "    check = False\n",
    "    while not check:\n",
    "        num += 1\n",
    "        check = isPrime(num)\n",
    "        \n",
    "    return num\n",
    "\n",
    "def main():\n",
    "    \n",
    "    num = int(input(\"Enter the number: \"))\n",
    "    print(\"Next prime number after %d is %d\" %(num, nextPrime(num)))\n",
    "    \n",
    "main()"
   ]
  },
  {
   "cell_type": "markdown",
   "metadata": {},
   "source": [
    "Exercise89: Capitalize It"
   ]
  },
  {
   "cell_type": "code",
   "execution_count": 57,
   "metadata": {},
   "outputs": [
    {
     "data": {
      "text/plain": [
       "\"What time do I have to be there?What's the address.\""
      ]
     },
     "execution_count": 57,
     "metadata": {},
     "output_type": "execute_result"
    }
   ],
   "source": [
    "def Capitalize_It(input_str):\n",
    "    adict = {\"a\":\"A\", \"b\":\"B\",\"c\":\"C\",\"d\":\"D\",\"e\":\"E\",\"f\":\"F\",\"g\":\"G\"\n",
    "             ,\"h\":\"H\",\"i\":\"I\",\"j\":\"J\",\"k\":\"K\",\"l\":\"L\",\"n\":\"N\",\"m\":\"M\"\n",
    "             ,\"o\":\"O\",\"p\":\"P\",\"q\":\"Q\",\"r\":\"R\",\"s\":\"S\",\"t\":\"T\",\"u\":\"U\"\n",
    "             ,\"v\":\"V\",\"w\":\"W\",\"x\":\"X\",\"y\":\"Y\",\"z\":\"Z\"}\n",
    "    \n",
    "    astr = \"\"\n",
    "    \n",
    "    if input_str[0] in adict:\n",
    "        curr_char = input_str[0] \n",
    "        astr += adict[curr_char]\n",
    "    else:\n",
    "        curr_char = input_str[0]\n",
    "        astr += curr_char\n",
    "\n",
    "    for i in range(1, len(input_str)):\n",
    "        if input_str[i] == \"i\" and input_str[i-1] == \" \" and input_str[i+1] == \" \":\n",
    "            curr_char = input_str[i]\n",
    "            astr += adict[curr_char]\n",
    "        elif input_str[i-1] in (\"?\",\"!\",\".\"):\n",
    "            if input_str[i] in adict:\n",
    "                curr_char = input_str[i] \n",
    "                astr += adict[curr_char]\n",
    "        else:\n",
    "            curr_char = input_str[i]\n",
    "            astr += curr_char\n",
    "    \n",
    "    return astr\n",
    "\n",
    "Capitalize_It(\"what time do i have to be there?what's the address.\")\n",
    "        "
   ]
  },
  {
   "cell_type": "code",
   "execution_count": null,
   "metadata": {},
   "outputs": [],
   "source": []
  }
 ],
 "metadata": {
  "kernelspec": {
   "display_name": "Python 3",
   "language": "python",
   "name": "python3"
  },
  "language_info": {
   "codemirror_mode": {
    "name": "ipython",
    "version": 3
   },
   "file_extension": ".py",
   "mimetype": "text/x-python",
   "name": "python",
   "nbconvert_exporter": "python",
   "pygments_lexer": "ipython3",
   "version": "3.6.5"
  }
 },
 "nbformat": 4,
 "nbformat_minor": 2
}
