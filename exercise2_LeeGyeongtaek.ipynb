{
 "cells": [
  {
   "cell_type": "markdown",
   "metadata": {},
   "source": [
    "Exercise61:Average"
   ]
  },
  {
   "cell_type": "code",
   "execution_count": 36,
   "metadata": {},
   "outputs": [
    {
     "name": "stdout",
     "output_type": "stream",
     "text": [
      "Enter number:4\n",
      "Enter number:3\n",
      "Enter number:2\n",
      "Enter number:1\n",
      "Enter number:0\n",
      "2.5\n"
     ]
    }
   ],
   "source": [
    "alist = []\n",
    "isFirst = 0\n",
    "\n",
    "input_data = int(input(\"Enter number:\"))\n",
    "\n",
    "if not input_data:\n",
    "    isFirst = 1\n",
    "    print(\"You entered 0 as the first value\")\n",
    "\n",
    "while input_data != 0:\n",
    "        alist.append(input_data)\n",
    "        input_data = int(input(\"Enter number:\"))\n",
    "\n",
    "if isFirst == 0:\n",
    "    avr_val = sum(alist)/(len(alist))\n",
    "    print(avr_val)"
   ]
  },
  {
   "cell_type": "markdown",
   "metadata": {},
   "source": [
    "Exercise63:TemperatureConversionTable"
   ]
  },
  {
   "cell_type": "code",
   "execution_count": 28,
   "metadata": {},
   "outputs": [
    {
     "name": "stdout",
     "output_type": "stream",
     "text": [
      "Celsius to Fahrenheit 0 to 100\n",
      "--------------------------------------------------------------------\n",
      "Celsius   :     0   10   20   30   40   50   60   70   80   90  100\n",
      "Fahrenheit:    32   50   68   86  104  122  140  158  176  194  212"
     ]
    }
   ],
   "source": [
    "import numpy as np\n",
    "\n",
    "cels = np.array(range(0,110,10))\n",
    "fahr = cels *9/5 + 32\n",
    "\n",
    "print(\"Celsius to Fahrenheit 0 to 100\")\n",
    "print(\"--------------------------------------------------------------------\")\n",
    "\n",
    "print(\"Celsius   : \", end=\"\")\n",
    "for i in range(len(cels)):\n",
    "    print(\"%5d\" % (cels[i]), end=\"\")\n",
    "\n",
    "          \n",
    "print(\"\\nFahrenheit: \", end=\"\")  \n",
    "for j in range(len(fahr)):\n",
    "    print(\"%5d\" % (fahr[j]), end=\"\")"
   ]
  },
  {
   "cell_type": "markdown",
   "metadata": {},
   "source": [
    "Exercise66:ComputeaGradePointAverage"
   ]
  },
  {
   "cell_type": "code",
   "execution_count": 18,
   "metadata": {},
   "outputs": [
    {
     "name": "stdout",
     "output_type": "stream",
     "text": [
      "Enter Letter Grades:A+\n",
      "Enter Letter Grades:B+\n",
      "Enter Letter Grades:C-\n",
      "Enter Letter Grades:D\n",
      "Enter Letter Grades:F\n",
      "Enter Letter Grades:\n",
      "Average Grade is: 2.00\n"
     ]
    }
   ],
   "source": [
    "sum_g = 0\n",
    "num = 0\n",
    "isFirst = 0\n",
    "\n",
    "letter_grade_list = [\"A+\", \"A\", \"A-\", \"B+\", \"B\", \"B-\", \"C+\", \"C\", \"C-\", \"D+\" ,\"D\", \"F\"]\n",
    "num_grade_list = [4.0, 4.0, 3.7, 3.3, 3.0, 2.7, 2.3, 2.0, 1.7, 1.3, 1.0, 0]\n",
    "\n",
    "input_data = str(input(\"Enter Letter Grades:\"))\n",
    "\n",
    "if not input_data:\n",
    "    isFirst = 1\n",
    "    print(\"You entered Nothing\")\n",
    "\n",
    "while input_data:\n",
    "    if input_data not in letter_grade_list: \n",
    "        print(\"Wrong Input!\")\n",
    "        input_data = str(input(\"Enter Letter Grades:\"))\n",
    "    else:\n",
    "        for i in range(len(letter_grade_list)):\n",
    "            if input_data == letter_grade_list[i]:\n",
    "                sum_g += num_grade_list[i]\n",
    "                num += 1\n",
    "                input_data = str(input(\"Enter Letter Grades:\"))\n",
    "\n",
    "if isFirst == 0 and num != 0:\n",
    "    print(\"Average Grade is: %.2f\" %(sum_g/num))\n"
   ]
  },
  {
   "cell_type": "markdown",
   "metadata": {},
   "source": [
    "Exercise67:AdmissionPrice"
   ]
  },
  {
   "cell_type": "code",
   "execution_count": 11,
   "metadata": {},
   "outputs": [
    {
     "name": "stdout",
     "output_type": "stream",
     "text": [
      "Enter the age of the guest:0\n",
      "Wrong Age Input!\n",
      "Enter the age of the guest: 2\n",
      "Enter the age of the guest: 3\n",
      "Enter the age of the guest: 20\n",
      "Enter the age of the guest: 70\n",
      "Enter the age of the guest: \n",
      "Total cost is $: 55.00\n"
     ]
    }
   ],
   "source": [
    "sum_g = 0\n",
    "num = 0\n",
    "isFirst = 0\n",
    "\n",
    "age = input(\"Enter the age of the guest:\")\n",
    "\n",
    "if not age:\n",
    "    isFirst = 1\n",
    "    print(\"No guest\")\n",
    "\n",
    "while age:\n",
    "    age = int(age)\n",
    "    \n",
    "    if age not in range(1, 150):\n",
    "        print(\"Wrong Age Input!\")\n",
    "    elif  age <= 2:\n",
    "        sum_g\n",
    "    elif age >= 3 and age <= 12:\n",
    "        sum_g += 14\n",
    "    elif age >= 65:\n",
    "        sum_g += 18\n",
    "    else:\n",
    "        sum_g += 23\n",
    "        \n",
    "    age = input(\"Enter the age of the guest: \")\n",
    "\n",
    "if isFirst == 0:\n",
    "    print(\"Total cost is $: %.2f\" %(sum_g))\n"
   ]
  },
  {
   "cell_type": "markdown",
   "metadata": {},
   "source": [
    "Exercise72:IsaStringaPalindrome?"
   ]
  },
  {
   "cell_type": "code",
   "execution_count": 1,
   "metadata": {},
   "outputs": [
    {
     "name": "stdout",
     "output_type": "stream",
     "text": [
      "Enter the word: hannah\n",
      "Is Palindrome!!\n"
     ]
    }
   ],
   "source": [
    "input_d = str(input(\"Enter the word: \"))\n",
    "rev_input_d = input_d[::-1]\n",
    "for i in range(len(input_d)):\n",
    "    if rev_input_d[i] != input_d[i]:\n",
    "        print(\"Is not Palindrome...\")\n",
    "else:\n",
    "    print(\"Is Palindrome!!\")"
   ]
  },
  {
   "cell_type": "markdown",
   "metadata": {},
   "source": [
    "Exercise74:MultiplicationTable"
   ]
  },
  {
   "cell_type": "code",
   "execution_count": 46,
   "metadata": {},
   "outputs": [
    {
     "name": "stdout",
     "output_type": "stream",
     "text": [
      "          1    2    3    4    5    6    7    8    9   10\n",
      "     1    1    2    3    4    5    6    7    8    9   10\n",
      "     2    2    4    6    8   10   12   14   16   18   20\n",
      "     3    3    6    9   12   15   18   21   24   27   30\n",
      "     4    4    8   12   16   20   24   28   32   36   40\n",
      "     5    5   10   15   20   25   30   35   40   45   50\n",
      "     6    6   12   18   24   30   36   42   48   54   60\n",
      "     7    7   14   21   28   35   42   49   56   63   70\n",
      "     8    8   16   24   32   40   48   56   64   72   80\n",
      "     9    9   18   27   36   45   54   63   72   81   90\n",
      "    10   10   20   30   40   50   60   70   80   90  100"
     ]
    }
   ],
   "source": [
    "alist = list(range(1,11,1))\n",
    "print(\"      \", end= \"\")\n",
    "for i in range(len(alist)):\n",
    "    print(\"%5d\" %(alist[i]), end=\"\")\n",
    "\n",
    "for j in range(1, 11, 1):\n",
    "    print(\"\\n%6d\" %(j), end=\"\")\n",
    "    for k in range(1, 11, 1):\n",
    "        print(\"%5d\" %(k*alist[j-1]), end=\"\")"
   ]
  },
  {
   "cell_type": "markdown",
   "metadata": {},
   "source": [
    "Exercise75:GreatestCommonDivisor"
   ]
  },
  {
   "cell_type": "code",
   "execution_count": 48,
   "metadata": {},
   "outputs": [
    {
     "name": "stdout",
     "output_type": "stream",
     "text": [
      "Enter first positive integers:5\n",
      "Enter second positive integers:4\n",
      "GCD is: \n",
      "1\n"
     ]
    }
   ],
   "source": [
    "n = int(input(\"Enter first positive integers:\"))\n",
    "while n <= 0:\n",
    "    n = int(input(\"Enter first positive integers:\"))\n",
    "    \n",
    "m = int(input(\"Enter second positive integers:\"))\n",
    "while m <= 0:\n",
    "    m = int(input(\"Enter econd positive integers:\"))\n",
    "\n",
    "if m > n:\n",
    "    temp = n\n",
    "    n = m\n",
    "    m = temp\n",
    "    \n",
    "gcd = 1\n",
    "\n",
    "if n % m == 0:\n",
    "    gcd = m\n",
    "\n",
    "for i in range(int(m/2), 0, -1):\n",
    "    if n%i == 0 and m%i == 0:\n",
    "        gcd = i\n",
    "        break;\n",
    "\n",
    "print(\"GCD is: \")\n",
    "print(gcd)\n"
   ]
  },
  {
   "cell_type": "markdown",
   "metadata": {},
   "source": [
    "Exercise77:BinarytoDecimal"
   ]
  },
  {
   "cell_type": "code",
   "execution_count": 54,
   "metadata": {},
   "outputs": [
    {
     "name": "stdout",
     "output_type": "stream",
     "text": [
      "Enter the string comprised of only 0s and 1s: 1010\n",
      "Decimal Number for your binary number: 10\n"
     ]
    }
   ],
   "source": [
    "sum = 0\n",
    "num = 1\n",
    "\n",
    "bin = str(input(\"Enter the string comprised of only 0s and 1s: \"))\n",
    "while True:\n",
    "    for i in range(len(bin)):\n",
    "        if not (bin[i] == \"0\" or bin[i] == \"1\"):\n",
    "            bin = str(input(\"Enter the string comprised of only 0s and 1s: \"))\n",
    "            break;\n",
    "    else:\n",
    "        break;\n",
    "\n",
    "for i in range(len(bin), 0, -1):\n",
    "    sum += int(bin[i-1]) * num\n",
    "    num = 2 * num\n",
    "\n",
    "print(\"Decimal Number for your binary number: %d\" % (sum))\n"
   ]
  },
  {
   "cell_type": "markdown",
   "metadata": {},
   "source": [
    "Exercise78:DecimaltoBinary"
   ]
  },
  {
   "cell_type": "code",
   "execution_count": 3,
   "metadata": {},
   "outputs": [
    {
     "name": "stdout",
     "output_type": "stream",
     "text": [
      "Enter the decimal number to convert into a binary number: 10\n",
      "1010"
     ]
    }
   ],
   "source": [
    "result = []\n",
    "q = int(input(\"Enter the decimal number to convert into a binary number: \"))\n",
    "while q:\n",
    "    remain = q % 2\n",
    "    result.append(remain)\n",
    "    q = q // 2\n",
    "\n",
    "result.reverse()\n",
    "for i in range(len(result)):\n",
    "    print(result[i], end=\"\")"
   ]
  },
  {
   "cell_type": "code",
   "execution_count": null,
   "metadata": {},
   "outputs": [],
   "source": []
  }
 ],
 "metadata": {
  "kernelspec": {
   "display_name": "Python 3",
   "language": "python",
   "name": "python3"
  },
  "language_info": {
   "codemirror_mode": {
    "name": "ipython",
    "version": 3
   },
   "file_extension": ".py",
   "mimetype": "text/x-python",
   "name": "python",
   "nbconvert_exporter": "python",
   "pygments_lexer": "ipython3",
   "version": "3.6.5"
  }
 },
 "nbformat": 4,
 "nbformat_minor": 2
}
