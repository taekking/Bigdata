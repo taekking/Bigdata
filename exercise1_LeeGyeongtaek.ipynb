{
 "cells": [
  {
   "cell_type": "markdown",
   "metadata": {},
   "source": [
    "exercise 105: Reverse Order"
   ]
  },
  {
   "cell_type": "code",
   "execution_count": 3,
   "metadata": {},
   "outputs": [
    {
     "name": "stdout",
     "output_type": "stream",
     "text": [
      "Enter number:5\n",
      "Enter number:4\n",
      "Enter number:3\n",
      "Enter number:2\n",
      "Enter number:1\n",
      "Enter number:0\n",
      "listed in reverse order:\n",
      "1\n",
      "2\n",
      "3\n",
      "4\n",
      "5\n"
     ]
    }
   ],
   "source": [
    "alist = []\n",
    "while True:\n",
    "    input_data = int(input(\"Enter number:\"))\n",
    "    if input_data == 0: #break if input_data is 0\n",
    "        break\n",
    "    else:\n",
    "        alist.append(input_data) #otherwise, append list\n",
    "\n",
    "alist.reverse()\n",
    "print(\"listed in reverse order:\")\n",
    "for count in range(len(alist)):\n",
    "    print(alist[count])"
   ]
  },
  {
   "cell_type": "markdown",
   "metadata": {},
   "source": [
    "exercise 107: Avoiding Duplicates"
   ]
  },
  {
   "cell_type": "code",
   "execution_count": 2,
   "metadata": {},
   "outputs": [
    {
     "name": "stdout",
     "output_type": "stream",
     "text": [
      "Enter word: first\n",
      "Enter word: second\n",
      "Enter word: first\n",
      "Enter word: third\n",
      "Enter word: second\n",
      "Enter word: \n",
      "Words:\n",
      "first\n",
      "second\n",
      "third\n"
     ]
    }
   ],
   "source": [
    "\n",
    "alist = []\n",
    "while True:\n",
    "    input_data = input(\"Enter word: \")\n",
    "    if not input_data:#if there is no word(=blank), then break\n",
    "        break\n",
    "    elif input_data not in alist:\n",
    "        alist.append(input_data) #otherwise, append list avoiding duplicates\n",
    "\n",
    "\n",
    "print(\"Words:\")\n",
    "for count in range(len(alist)):\n",
    "    print(alist[count])\n",
    "\n",
    "        "
   ]
  },
  {
   "cell_type": "markdown",
   "metadata": {},
   "source": [
    "Exercise108:Negatives,ZerosandPositives"
   ]
  },
  {
   "cell_type": "code",
   "execution_count": 1,
   "metadata": {},
   "outputs": [
    {
     "name": "stdout",
     "output_type": "stream",
     "text": [
      "Enter number: -4\n",
      "Enter number: 3\n",
      "Enter number: 1\n",
      "Enter number: 0\n",
      "Enter number: -1\n",
      "Enter number: 0\n",
      "Enter number: -2\n",
      "Enter number: \n",
      "-4\n",
      "-1\n",
      "-2\n",
      "0\n",
      "0\n",
      "3\n",
      "1\n"
     ]
    }
   ],
   "source": [
    "nega = []\n",
    "zero = []\n",
    "posi = []\n",
    "\n",
    "num = input(\"Enter number: \")\n",
    "while num:\n",
    "    num = int(num)\n",
    "    \n",
    "    if num < 0:\n",
    "        nega.append(num) \n",
    "    elif num > 0:\n",
    "        posi.append(num) \n",
    "    else:\n",
    "        zero.append(num)\n",
    "\n",
    "    num = input(\"Enter number: \")\n",
    "\n",
    "for i in nega:\n",
    "    print(i)\n",
    "for i in zero:\n",
    "    print(i)\n",
    "for i in posi:\n",
    "    print(i)"
   ]
  },
  {
   "cell_type": "markdown",
   "metadata": {},
   "source": [
    "Exercise110:PerfectNumbers"
   ]
  },
  {
   "cell_type": "code",
   "execution_count": 4,
   "metadata": {},
   "outputs": [
    {
     "name": "stdout",
     "output_type": "stream",
     "text": [
      "Perfect numbers between 1 and  10000 ?: \n",
      "6\n",
      "28\n",
      "496\n",
      "8128\n"
     ]
    }
   ],
   "source": [
    "min = 1\n",
    "max = 10000\n",
    "\n",
    "def prop_div(num):\n",
    "    divisors = []\n",
    "    sum = 0\n",
    "\n",
    "    for k in range(1, num): \n",
    "        if num % k == 0: #get proper divisors\n",
    "            divisors.append(k) \n",
    "\n",
    "    for j in divisors:\n",
    "        sum += j #sumation of divisors\n",
    "\n",
    "    if sum == num: #if perfect number\n",
    "        return True\n",
    "    return False\n",
    "\n",
    "def main():\n",
    "    print(\"Perfect numbers between %d and  %d ?: \" % (min, max))\n",
    "    for i in range(min, max + 1):\n",
    "        if prop_div(i): #call the function that finds perfect numbers\n",
    "            print(i)\n",
    "\n",
    "main()"
   ]
  },
  {
   "cell_type": "markdown",
   "metadata": {},
   "source": [
    "Exercise113:FormattingaList"
   ]
  },
  {
   "cell_type": "code",
   "execution_count": null,
   "metadata": {},
   "outputs": [
    {
     "name": "stdout",
     "output_type": "stream",
     "text": [
      "Enter an item: apples\n",
      "apples\n",
      "Enter an item: oranges\n",
      "apples and oranges\n",
      "Enter an item: bananas\n",
      "apples, oranges and bananas\n",
      "Enter an item: lemons\n",
      "apples, oranges, bananas and lemons\n"
     ]
    }
   ],
   "source": [
    "def main():\n",
    "\n",
    "    items = []\n",
    "\n",
    "    while True:\n",
    "        input_data = input(\"Enter an item: \")\n",
    "        if not input_data:\n",
    "            break;\n",
    "        else:\n",
    "            items.append(input_data)\n",
    "            result = \"\"\n",
    "\n",
    "            if len(items) >= 1:\n",
    "                result = str(items[0])\n",
    "\n",
    "            if len(items) >= 3:\n",
    "                for i in range(1, len(items) - 1):\n",
    "                    result = result + str(\", \" + items[i])\n",
    "\n",
    "            if len(items) >= 2:\n",
    "                result = result + str(\" and \" + items[len(items)-1])\n",
    "\n",
    "            print(result)\n",
    "\n",
    "main()\n"
   ]
  },
  {
   "cell_type": "markdown",
   "metadata": {},
   "source": [
    "Exercise114:RandomLotteryNumbers"
   ]
  },
  {
   "cell_type": "code",
   "execution_count": 7,
   "metadata": {},
   "outputs": [
    {
     "name": "stdout",
     "output_type": "stream",
     "text": [
      "Numbers are: \n",
      "7\n",
      "11\n",
      "28\n",
      "32\n",
      "43\n",
      "49\n"
     ]
    }
   ],
   "source": [
    "from random import randrange\n",
    "\n",
    "num_list = []\n",
    "loop = 6\n",
    "min = 1\n",
    "max = 49\n",
    "candidate = list(range(min, max+1)) #candidate numbers 1~49\n",
    "\n",
    "for i in range(loop): \n",
    "    rand = randrange(min, max)\n",
    "    num_list.append(candidate[rand]) #append number list\n",
    "    del candidate[rand] #delete the number from candidate list in order to avoid duplicates\n",
    "    max -= 1\n",
    "\n",
    "num_list.sort() #sort num_list\n",
    "print(\"Numbers are: \")\n",
    "for j in num_list:\n",
    "    print(j)\n",
    "        \n"
   ]
  },
  {
   "cell_type": "code",
   "execution_count": null,
   "metadata": {},
   "outputs": [],
   "source": []
  }
 ],
 "metadata": {
  "kernelspec": {
   "display_name": "Python 3",
   "language": "python",
   "name": "python3"
  },
  "language_info": {
   "codemirror_mode": {
    "name": "ipython",
    "version": 3
   },
   "file_extension": ".py",
   "mimetype": "text/x-python",
   "name": "python",
   "nbconvert_exporter": "python",
   "pygments_lexer": "ipython3",
   "version": "3.6.5"
  }
 },
 "nbformat": 4,
 "nbformat_minor": 2
}
