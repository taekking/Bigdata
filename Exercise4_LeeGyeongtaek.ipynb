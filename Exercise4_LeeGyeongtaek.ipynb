{
 "cells": [
  {
   "cell_type": "markdown",
   "metadata": {},
   "source": [
    "Exercise129:TwoDiceSimulation"
   ]
  },
  {
   "cell_type": "code",
   "execution_count": 2,
   "metadata": {},
   "outputs": [
    {
     "name": "stdout",
     "output_type": "stream",
     "text": [
      "     Total  Simulated   Excepted\n",
      "              percent    precent\n",
      "         2       3.40       2.78\n",
      "         3       8.20       5.56\n",
      "         4      12.00       8.33\n",
      "         5      15.20      11.11\n",
      "         6      20.00      13.89\n",
      "         7      18.20      16.67\n",
      "         8      10.30      13.89\n",
      "         9       8.80      11.11\n",
      "        10       3.90       8.33\n",
      "        11       0.00       5.56\n",
      "        12       0.00       2.78\n"
     ]
    }
   ],
   "source": [
    "from random import randrange\n",
    "\n",
    "def Two_Dice_Simul():\n",
    "    loop = 1000\n",
    "    \n",
    "    adict = {\"2\":0, \"3\":0, \"4\":0, \"5\":0, \"6\":0, \"7\":0, \n",
    "             \"8\":0, \"9\":0, \"10\":0, \"11\":0, \"12\":0}\n",
    "    \n",
    "    bdict = {\"2\":(1000/36), \"3\":(1000/36)*2, \"4\":(1000/36)*3, \n",
    "             \"5\":(1000/36)*4, \"6\":(1000/36)*5, \"7\":(1000/36)*6, \n",
    "             \"8\":(1000/36)*5, \"9\":(1000/36)*4, \"10\":(1000/36)*3,\n",
    "             \"11\":(1000/36)*2, \"12\":(1000/36)*1}\n",
    "    \n",
    "    print(\"%10s %10s %10s\" %('Total', 'Simulated', 'Excepted'))\n",
    "    print(\"%10s %10s %10s\" %('', 'percent', 'precent'))\n",
    "    \n",
    "    for i in range(loop):\n",
    "        rand = randrange(1, 6) + randrange(1, 6)\n",
    "        rand = str(rand)\n",
    "        adict[rand] += 1\n",
    "    \n",
    "    for j in range(2,13,1):\n",
    "        str_j = str(j)\n",
    "        print(\"%10d %10.2f %10.2f\" %(j, adict[str_j]/10, bdict[str_j]/10))\n",
    "    \n",
    "Two_Dice_Simul()"
   ]
  },
  {
   "cell_type": "markdown",
   "metadata": {},
   "source": [
    "Exercise130:TextMessaging"
   ]
  },
  {
   "cell_type": "code",
   "execution_count": 3,
   "metadata": {},
   "outputs": [
    {
     "name": "stdout",
     "output_type": "stream",
     "text": [
      "Enter the message: Hello, World!\n",
      "4433555555666110966677755531111"
     ]
    }
   ],
   "source": [
    "def textMess():\n",
    "    \n",
    "    adict = {\".\":1,\",\":11,\"?\":111,\"!\":1111,\":\":11111,\n",
    "         \"A\":2,\"a\":2,\"B\":22,\"b\":22,\"C\":222,\"c\":222,\n",
    "         \"D\":3,\"d\":3,\"E\":33,\"e\":33,\"F\":333,\"f\":333,\n",
    "         \"G\":4,\"g\":4,\"H\":44,\"h\":44,\"I\":444,\"i\":444,\n",
    "         \"J\":5,\"j\":5,\"K\":55,\"k\":55,\"L\":555,\"l\":555,\n",
    "         \"M\":6,\"m\":6,\"N\":66,\"n\":66,\"O\":666,\"o\":666,\n",
    "         \"P\":7,\"p\":7,\"Q\":77,\"q\":77,\"R\":777,\"r\":777,\"S\":7777,\"s\":7777,\n",
    "         \"T\":8,\"t\":8,\"U\":88,\"u\":88,\"V\":888,\"v\":888,\n",
    "         \"W\":9,\"w\":9,\"X\":99,\"x\":99,\"Y\":999,\"y\":999,\"Z\":9999,\"z\":9999,\n",
    "         \" \":0}\n",
    "\n",
    "    \n",
    "    while True:\n",
    "        try:\n",
    "            astr = str(input(\"Enter the message: \"))\n",
    "            break;\n",
    "        except:\n",
    "            pass\n",
    "\n",
    "    for i in astr:\n",
    "        if i in adict:\n",
    "            print(adict[i], end=\"\")\n",
    "        \n",
    "textMess()"
   ]
  },
  {
   "cell_type": "markdown",
   "metadata": {},
   "source": [
    "Exercise131:MorseCode"
   ]
  },
  {
   "cell_type": "code",
   "execution_count": 4,
   "metadata": {},
   "outputs": [
    {
     "name": "stdout",
     "output_type": "stream",
     "text": [
      "Enter the message: Hello, World!\n",
      "......-...-..---.-----.-..-..-.."
     ]
    }
   ],
   "source": [
    "def morseCode():\n",
    "    \n",
    "    adict = {\"1\":'.----',\"2\":'..---',\"3\":'...--',\"4\":'....-',\"5\":'.....',\n",
    "         \"6\":'-....',\"7\":'--...',\"8\":'---..',\"9\":'----.',\"0\":'-----',\n",
    "         \"A\":'.-',\"a\":'.-',\"B\":'-...',\"b\":'-...',\"C\":'-.-.',\"c\":'-.-.',\n",
    "         \"D\":'-..',\"d\":'-..',\"E\":'.',\"e\":'.',\"F\":'..-.',\"f\":'..-.',\n",
    "         \"G\":'--.',\"g\":'--.',\"H\":'....',\"h\":'....',\"I\":'..',\"i\":'..',\n",
    "         \"J\":'.---',\"j\":'.---',\"K\":'-.-',\"k\":'-.-',\"L\":'.-..',\"l\":'.-..',\n",
    "         \"M\":'--',\"m\":'--',\"N\":'-.',\"n\":'-.',\"O\":'---',\"o\":'---',\n",
    "         \"P\":'.--.',\"p\":'.--.',\"Q\":'--.-',\"q\":'--.-',\"R\":'.-.',\"r\":'.-.',\n",
    "         \"S\":'...',\"s\":'...',\"T\":'-',\"t\":'-',\"U\":'..-',\"u\":'..-',\n",
    "         \"V\":'...-',\"v\":'...-',\"W\":'.--',\"w\":'.--',\"X\":'-..-',\"x\":'-..-',\n",
    "         \"Y\":'-.--',\"y\":'-.--',\"Z\":'--..',\"z\":'--..',}\n",
    "\n",
    "    \n",
    "    while True:\n",
    "        try:\n",
    "            astr = str(input(\"Enter the message: \"))\n",
    "            break;\n",
    "        except:\n",
    "            pass\n",
    "\n",
    "    for i in astr:\n",
    "        if i in adict:\n",
    "            print(adict[i], end=\"\")\n",
    "        \n",
    "morseCode()"
   ]
  },
  {
   "cell_type": "markdown",
   "metadata": {},
   "source": [
    "Exercise132:PostalCodes"
   ]
  },
  {
   "cell_type": "code",
   "execution_count": 7,
   "metadata": {},
   "outputs": [
    {
     "name": "stdout",
     "output_type": "stream",
     "text": [
      "Enter the postal code: X0A 1B2\n",
      "The postal code is for a rural address in Nunavut or Northwest Territories\n"
     ]
    }
   ],
   "source": [
    "def postalCode():\n",
    "    \n",
    "    num_dict = {\"1\":'urban',\"2\":'urban',\"3\":'urban',\"4\":'urban',\"5\":'urban',\n",
    "        \"6\":'urban',\"7\":'urban',\"8\":'urban',\"9\":'urban',\"0\":'rural'}\n",
    "    char_dict = {\n",
    "        \"A\":'Newfoundland',\"a\":'Newfoundland',\n",
    "        \"B\":'Nova Scotia',\"b\":'Nova Scotia',\n",
    "        \"C\":'Prince Edward Island',\"c\":'Prince Edward Island',\n",
    "        \"E\":'New Brunswick',\"e\":'New Brunswick',\n",
    "        \"G\":'Quebec',\"g\":'Quebec',\n",
    "        \"H\":'Quebec',\"h\":'Quebec',\n",
    "        \"J\":'Quebec',\"j\":'Quebec',\n",
    "        \"K\":'Ontario',\"k\":'Ontario',\n",
    "        \"L\":'Ontario',\"l\":'Ontario',\n",
    "        \"M\":'Ontario',\"m\":'Ontario',\n",
    "        \"N\":'Ontario',\"n\":'Ontario',\n",
    "        \"P\":'Ontario',\"p\":'Ontario',\n",
    "        \"R\":'Manitoba',\"r\":'Manitoba',\n",
    "        \"S\":'Saskatchewan',\"s\":'Saskatchewan',\n",
    "        \"T\":'Alberta',\"t\":'Alberta',\n",
    "        \"V\":'British Columbia',\"v\":'British Columbia',\n",
    "        \"X\":'Nunavut or Northwest Territories',\"x\":'Nunavut or Northwest Territories',\n",
    "        \"Y\":'Yukon',\"y\":'Yukon'}\n",
    "\n",
    "    \n",
    "    while True:\n",
    "        try:\n",
    "            astr = str(input(\"Enter the postal code: \"))\n",
    "            break;\n",
    "        except:\n",
    "            pass\n",
    "\n",
    "    if not astr[0] in char_dict:\n",
    "        print(\"The first letter should be character \\\n",
    "              in '(A, B, C, E, G, H, J, K, L, M, N, \\\n",
    "              P, R, S, T, V, X, Y)''\")\n",
    "    elif not astr[1] in num_dict:\n",
    "        print(\"The second letter should be number '(0~9)''\")\n",
    "    else:\n",
    "        print(\"The postal code is for a %s address in %s\" \n",
    "              %(num_dict[astr[1]], char_dict[astr[0]]))\n",
    "        \n",
    "postalCode()"
   ]
  },
  {
   "cell_type": "code",
   "execution_count": null,
   "metadata": {},
   "outputs": [],
   "source": []
  }
 ],
 "metadata": {
  "kernelspec": {
   "display_name": "Python 3",
   "language": "python",
   "name": "python3"
  },
  "language_info": {
   "codemirror_mode": {
    "name": "ipython",
    "version": 3
   },
   "file_extension": ".py",
   "mimetype": "text/x-python",
   "name": "python",
   "nbconvert_exporter": "python",
   "pygments_lexer": "ipython3",
   "version": "3.6.5"
  }
 },
 "nbformat": 4,
 "nbformat_minor": 2
}
